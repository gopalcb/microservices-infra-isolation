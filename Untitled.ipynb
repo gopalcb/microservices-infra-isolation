{
 "cells": [
  {
   "cell_type": "markdown",
   "id": "cf763ed1-9582-408c-a2c2-176ec8c2359c",
   "metadata": {},
   "source": [
    "# Fullstack resource isolation for microservices based multi-tenant SaaS system\n",
    "<hr>\n",
    "\n",
    "The primary focus of this project is creating an architecture for a multi-tenant based SaaS system where needed resources for each tenant are isolated from each other and multiple microservices are responsible for different tasks, for example, tenant registration and authentication, products and order management and so on. In order to achieve this goal, preventing cross tenant access is the key point that has been considered considered in this project.\n",
    "\n",
    "## Preventing cross tenant access:\n",
    "In a SaaS system where tenants privacy is the first priority, it is important to make sure that one tenant can never have accendental access to the resources and data of other tenants. At the very basic code-level, this can be achieved by carefully running database queries invoking tenant specific key data in the query string. However, in this approach all tenants data is still stored in the same database and within the same network and resources. Also this approach can create huge load on the single server when all tenants will try to access their data from the same database within the same network. In order to prevent cross tenant access, we can use multiple approaches: serverless and servers with custom resources. Using serverless approach, there are two major ways of preventing cross tenant access. The first approach is deploying a separate set of lambda function for each tenant. The other approach is using a pool model. In this model, functions are deployed with an execution role that has a scope that is broad enough to accepts calls from all tenants. In this mode, we need to apply isolation scoping at runtime in the implementation of our multi-tenant functions. The following diagram shows an example.\n",
    "\n",
    "<img src=\"images/1.png\" width=600>\n",
    "(Ref. AWS SaaS Lens)\n",
    "\n",
    "## Fullstack Resource Isolation:\n",
    "\n",
    "The fullstack resource isolation offers tenants their own infrastructure. The key facts in this approach are:\n",
    "* Tenants do not share a common infrastructure\n",
    "* Tenants can use different software versions in their dedicated infrastructure\n",
    "* This approach doesn’t deliver the cost efficiencies of a shared infrastructure model\n",
    "* The distributed nature of the infrastructure can make operations and deployments more complex\n",
    "\n",
    "The following diagram show a clear picture of the fullstack isolation (silo) model.\n",
    "\n",
    "<img src=\"images/2.png\" width=600>\n",
    "(Ref. AWS SaaS Lens)\n",
    "\n",
    "The environment of each tenant in this model are pretty straightforward with a set of resources in the dedicated infrastructure. In the above example, when a new tenant will opt in for the services, a new infrastructure with separate VPC will be provisioned with the defined set of resources that is dedicated for the new tenant. The major advantage of this approach is- each tenant is isolated within a specific VPC and thus, there is no chance that one tenant can have accendental access to the VPC of another tenant. While this example illustrates a VPC-per-tenant model, there are other architectures that can be used to implement the full stack model. Some organizations might choose to use an account-per-tenant model where each tenant environment is deployed in a separate provisioned account.\n",
    "\n",
    "## Project Structure:\n",
    "\n",
    "<img src=\"images/1.png\" width=600>\n",
    "\n",
    "## Microservices and Data Flow:\n",
    "\n",
    "The following six microservices are used in this projects to illustrate the tenant isolation process:\n",
    "* Registration service\n",
    "* Authentication service\n",
    "* Infrastructure provisioning service\n",
    "* Order management service\n",
    "* Payment service\n",
    "* Metrics and logging service\n",
    "\n",
    "The diagram below explains the connectivity among these microservices.\n",
    "<img src=\"images/1.png\" width=600>\n",
    "\n",
    "\n",
    "\n",
    "### API Gateway:\n",
    "\n",
    "\n",
    "## Isolated Infrastructure Provisioning Pipeline:\n",
    "\n",
    "xxxxxxxx\n",
    "\n",
    "## Limitations:\n",
    "\n",
    "xxxx\n",
    "\n",
    "## Conclusion and References:\n",
    "\n",
    "xxx"
   ]
  },
  {
   "cell_type": "code",
   "execution_count": null,
   "id": "b08364fb-0c02-427a-b665-04b2db5b50e7",
   "metadata": {},
   "outputs": [],
   "source": []
  }
 ],
 "metadata": {
  "kernelspec": {
   "display_name": "Python 3 (ipykernel)",
   "language": "python",
   "name": "python3"
  },
  "language_info": {
   "codemirror_mode": {
    "name": "ipython",
    "version": 3
   },
   "file_extension": ".py",
   "mimetype": "text/x-python",
   "name": "python",
   "nbconvert_exporter": "python",
   "pygments_lexer": "ipython3",
   "version": "3.11.2"
  }
 },
 "nbformat": 4,
 "nbformat_minor": 5
}
